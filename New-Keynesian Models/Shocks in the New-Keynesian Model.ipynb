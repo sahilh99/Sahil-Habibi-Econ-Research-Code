{
 "cells": [
  {
   "cell_type": "markdown",
   "metadata": {},
   "source": [
    "# The New-Keynesian Model\n",
    "\n",
    "As opposed to the Real Business Cycle model by Prescott, which hypothesizes that the main driver of changes in macroeconomic quantities over the Real Business Cycle is caused by changes in the \"A\" in the production function, the New-Keynsian model instead places the ownership at the feet of demand, supply, and monetary policy shocks.\n",
    "\n",
    "Thus, the goal of this experiment will be to analyze the different impulse responses to output and inflation in the case of different forms of shocks: demand, supply, and monetary policy shocks."
   ]
  },
  {
   "cell_type": "code",
   "execution_count": 100,
   "metadata": {},
   "outputs": [
    {
     "name": "stdout",
     "output_type": "stream",
     "text": [
      "Requirement already satisfied: linearsolve in /opt/anaconda3/lib/python3.12/site-packages (3.6.2)\n"
     ]
    }
   ],
   "source": [
    "#Install linearsolve to be able to approximate solutions to FOCs\n",
    "!pip install linearsolve"
   ]
  },
  {
   "cell_type": "code",
   "execution_count": 101,
   "metadata": {},
   "outputs": [],
   "source": [
    "#Import packages\n",
    "import numpy as np #Numpy for array operations\n",
    "import pandas as pd #Pandas for dataframes and data management\n",
    "import linearsolve as ls #Linearsolve for FOC computation\n",
    "plt.style.use('classic')\n",
    "plt.rcParams['figure.facecolor'] = 'white'"
   ]
  },
  {
   "cell_type": "markdown",
   "metadata": {},
   "source": [
    "## The Equilibrium Conditions in the New-Keynesian Model\n",
    "\n",
    "We will utilize the following set of equations to define our New-Keynesian model\n",
    "\n",
    "\\begin{align}\n",
    "y_t & = E_t y_{t+1}  - \\left( r_{t} - \\bar{r}\\right) + g_t\\\\\n",
    "i_{t} & = r_{t} + E_t \\pi_{t+1}\\\\\n",
    "i_{t} & = \\bar{r} + \\pi^T + \\phi_{\\pi}\\big(\\pi_t - \\pi^T\\big) + \\phi_{y}\\big(y_t - \\bar{y}\\big) + v_t\\\\\n",
    "\\pi_t -\\pi^T & = \\beta \\left( E_t\\pi_{t+1} - \\pi^T\\right)  + \\kappa (y_t -\\bar{y})+ u_t,\n",
    "\\end{align}\n",
    "\n",
    "where: $y_t$ is the log transform of output, $r_t$ is the real interest rate, $i_t$ is the nominal interest rate, $\\pi_t$ is the rate of inflation between periods $t-1$ and $t$, $\\bar{r}$ is the long-run average real interest rate or the *natural rate of interest*, $\\beta$ is the household's subjective discount factor, and $\\pi^T$ is the central bank's inflation target. The coeffieints $\\phi_{\\pi}$ and $\\phi_{y}$ can be viewed as the \"hatred\" coefficients, with a larger coefficient indicating that the central bank really will respond more heavily to, with the first being inflation and the second being output. I.e., the higher $\\phi_{\\pi}$ is, the more the central bank hates inflation, and would thus respond more harshly to keep in check.\n",
    "\n",
    "We represent g as the shock to aggregate demand, u as the shock for inflation, and v as the shock to monetary policy.\n",
    "\n",
    "\\begin{align}\n",
    "g_{t+1} & = \\rho_g g_{t} + \\epsilon^g_{t+1}\\\\\n",
    "u_{t+1} & = \\rho_u u_{t} + \\epsilon^u_{t+1}\\\\\n",
    "v_{t+1} & = \\rho_v v_{t} + \\epsilon^v_{t+1}.\n",
    "\\end{align}\n",
    "\n",
    "These are the parameters we will be utilizing in our model:\n",
    "\n",
    "| $$\\bar{y}$$ | $$\\beta$$ | $$\\bar{r}$$    | $$\\kappa$$ | $$\\pi^T$$ | $$\\phi_{\\pi}$$ | $$\\phi_y$$ | $$\\rho_g$$ | $$\\rho_u$$ | $$\\rho_v$$ | \n",
    "|-------------|-----------|----------------|------------|-----------|----------------|------------|------------|------------|------------|\n",
    "| 0           | 0.995     | $$-\\log\\beta$$ | 0.25       | 0.02/4    | 1.5            | 0.5/4      | 0.5        | 0.5        | 0.5        |"
   ]
  },
  {
   "cell_type": "markdown",
   "metadata": {},
   "source": [
    "## Solution"
   ]
  },
  {
   "cell_type": "code",
   "execution_count": 104,
   "metadata": {},
   "outputs": [],
   "source": [
    "#Create a pandas series to store our parameters in the model\n",
    "parameters = pd.Series({\n",
    "    'y_bar': 0,\n",
    "    'beta': 0.995,\n",
    "    'r_bar': -np.log(0.995),\n",
    "    'kappa': 0.25,\n",
    "    'pi_T': 0.02/4,\n",
    "    'phi_pi': 1.5,\n",
    "    'phi_y': 0.5/4,\n",
    "    'rho_g': 0.5,\n",
    "    'rho_u': 0.5,\n",
    "    'rho_v': 0.5\n",
    "})\n",
    "\n",
    "#Store exogenous state variables in a list\n",
    "exo_states = ['g','u','v']\n",
    "\n",
    "#Store co-state variables in a list\n",
    "costates = ['y','pi','i','r']\n",
    "\n",
    "#Create function to compute the solutions to our FOCs\n",
    "def equations(variables_forward, variables_current, parameters):\n",
    "    \n",
    "    p = parameters #parameters\n",
    "    cur = variables_current #variable values at time t\n",
    "    fwd = variables_forward #variable values at time t+1\n",
    "\n",
    "    #Equilibrium Conditions, cur. is the time t value of the variable, fwd. is the time t+1 value of the variable\n",
    "    is_equation = fwd.y - (cur.r - p.r_bar) + cur.g - cur.y\n",
    "    fisher_equation = cur.r + fwd.pi - cur.i \n",
    "    monetary_policy = p.r_bar + p.pi_T + p.phi_pi*(cur.pi - p.pi_T) + p.phi_y*cur.y + cur.v - cur.i\n",
    "    phillips_curve = p.beta*(fwd.pi - p.pi_T) + p.kappa*cur.y + cur.u - (cur.pi - p.pi_T)\n",
    "    demand_process = p.rho_g*cur.g - fwd.g\n",
    "    monetary_policy_process = p.rho_v*cur.v - fwd.v\n",
    "    inflation_process = p.rho_u*cur.u - fwd.u\n",
    "\n",
    "    #Place everything into an array\n",
    "    return np.array([is_equation, fisher_equation, monetary_policy, phillips_curve, demand_process, monetary_policy_process, inflation_process])\n",
    "\n",
    "#Initiate model\n",
    "nk_model = ls.model(equations=equations, exo_states=exo_states, costates=costates, parameters=parameters)\n",
    "\n",
    "#Compute steady state\n",
    "nk_model.compute_ss()\n"
   ]
  },
  {
   "cell_type": "code",
   "execution_count": 105,
   "metadata": {},
   "outputs": [],
   "source": [
    "#Compute our linear approximation to the problem\n",
    "nk_model.approximate_and_solve()"
   ]
  },
  {
   "cell_type": "code",
   "execution_count": 106,
   "metadata": {},
   "outputs": [],
   "source": [
    "#Compute the impulse responses to our variables with a shock\n",
    "nk_model.impulse(T=21,t0=5,shocks=[0.01,0.01/4,0.01/4],normalize=False)"
   ]
  },
  {
   "cell_type": "markdown",
   "metadata": {},
   "source": [
    "### Demand Shock\n",
    "\n",
    "Here we will explore the impacts of a shock to aggregate demand on the impulse responses of inflation and output in the New-Keynesian model"
   ]
  },
  {
   "cell_type": "code",
   "execution_count": 108,
   "metadata": {},
   "outputs": [],
   "source": [
    "#We will utilize bokeh plotting for nicer looking graphs\n",
    "from bokeh.plotting import figure, output_file, save\n",
    "from bokeh.layouts import gridplot\n",
    "from IPython.display import IFrame #Use this to display the graph in GitHub, as the interactive graph can't be viewed."
   ]
  },
  {
   "cell_type": "code",
   "execution_count": 109,
   "metadata": {},
   "outputs": [
    {
     "data": {
      "text/html": [
       "\n",
       "        <iframe\n",
       "            width=\"1100\"\n",
       "            height=\"800\"\n",
       "            src=\"bokeh_plot.html\"\n",
       "            frameborder=\"0\"\n",
       "            allowfullscreen\n",
       "            \n",
       "        ></iframe>\n",
       "        "
      ],
      "text/plain": [
       "<IPython.lib.display.IFrame at 0x155917500>"
      ]
     },
     "execution_count": 109,
     "metadata": {},
     "output_type": "execute_result"
    }
   ],
   "source": [
    "#Create our data for the graphs: variables and scale\n",
    "data = {\n",
    "    'time': nk_model.irs['e_g']['i'].index, \n",
    "    'nominal_interest': nk_model.irs['e_g']['i'] * 400,\n",
    "    'real_interest': nk_model.irs['e_g']['r'] * 400,\n",
    "    'output': nk_model.irs['e_g']['y'] * 100,\n",
    "    'inflation': nk_model.irs['e_g']['pi'] * 400\n",
    "}\n",
    "\n",
    "#Create our axes settings: Graph title, variable name, y axis limits, scalar, and color of graph\n",
    "settings = [\n",
    "    ('Nominal Interest (annualized)', 'nominal_interest', [-0.5, 3.5], 400, 'red'),\n",
    "    ('Real Interest (annualized)', 'real_interest', [-0.5, 3.5], 400, 'blue'),\n",
    "    ('Output', 'output', [-0.5, 2], 100, 'green'),\n",
    "    ('Inflation (annualized)', 'inflation', [-0.5, 2], 400, 'orange')\n",
    "]\n",
    "\n",
    "#Initialize list to store the plots in\n",
    "plots = []\n",
    "\n",
    "#Initiate for loop to go through the graphs: loop through title of graph, the y limits of the y axis, the scalar, and the color of graph\n",
    "for title, var, ylim, scale, color in settings:\n",
    "    p = figure(title=title, x_axis_label='Time', y_axis_label='% dev from steady state', height=400, width=600)\n",
    "    p.line(data['time'], data[var], line_width=4, color=color, alpha=0.75)\n",
    "    \n",
    "    #Activate the y limits desired for graph visualization\n",
    "    p.y_range.start = ylim[0]\n",
    "    p.y_range.end = ylim[1]\n",
    "    \n",
    "    #Center title for look factor\n",
    "    p.title.text_font_size = '14pt'  #Set title font size\n",
    "    p.title.align = 'center'  #Title is now centered\n",
    "    plots.append(p)  #Append the plot to the list to graph all together\n",
    "\n",
    "#Make spacing of graphs wider to allow for better visualization\n",
    "grid = gridplot([[plots[0], plots[1]], [plots[2], plots[3]]], sizing_mode='scale_width')\n",
    "\n",
    "#Save the plot as an HTML file\n",
    "output_file(\"bokeh_plot.html\")  # Save to an HTML file\n",
    "save(grid)  # Save the grid plot\n",
    "\n",
    "#Display the plot in Jupyter notebook using IFrame with adjusted dimensions\n",
    "IFrame(\"bokeh_plot.html\", width=1100, height=800)\n"
   ]
  },
  {
   "cell_type": "markdown",
   "metadata": {},
   "source": [
    "## Demand Shock Results & Conclusions\n",
    "\n",
    "What we are able to notice in the case of a demand shock, is that there is a growth in output. However, we see that there is a larger inflationary increase compared to steady state for inflation versus output. Thus, an aggregate demand shock may put upwards pressure on inflation, which creates a trade-off situation."
   ]
  },
  {
   "cell_type": "markdown",
   "metadata": {},
   "source": [
    "### Inflation Shock\n",
    "\n",
    "We will now examine the changes in the impulse responses to real interest rates, output, and inflation in response to what we typically think of as a \"supply shock\", where there is some kind of new constraint placed on production such as the Oil shocks of the 1970s."
   ]
  },
  {
   "cell_type": "code",
   "execution_count": 112,
   "metadata": {},
   "outputs": [
    {
     "data": {
      "text/html": [
       "\n",
       "        <iframe\n",
       "            width=\"1100\"\n",
       "            height=\"800\"\n",
       "            src=\"bokeh_plot_e_u.html\"\n",
       "            frameborder=\"0\"\n",
       "            allowfullscreen\n",
       "            \n",
       "        ></iframe>\n",
       "        "
      ],
      "text/plain": [
       "<IPython.lib.display.IFrame at 0x15583e1e0>"
      ]
     },
     "execution_count": 112,
     "metadata": {},
     "output_type": "execute_result"
    }
   ],
   "source": [
    "#Create our data for the graphs: variables and scale\n",
    "data = {\n",
    "    'time': nk_model.irs['e_u']['i'].index,  \n",
    "    'nominal_interest': nk_model.irs['e_u']['i'] * 400,\n",
    "    'real_interest': nk_model.irs['e_u']['r'] * 400,\n",
    "    'output': nk_model.irs['e_u']['y'] * 100,\n",
    "    'inflation': nk_model.irs['e_u']['pi'] * 400\n",
    "}\n",
    "\n",
    "#Create our axes settings: Graph title, variable name, y axis limits, scalar, and color of graph\n",
    "settings = [\n",
    "    ('Nominal Interest (annualized)', 'nominal_interest', 'red'),\n",
    "    ('Real Interest (annualized)', 'real_interest', 'blue'),\n",
    "    ('Output', 'output', 'green'),\n",
    "    ('Inflation (annualized)', 'inflation', 'orange')\n",
    "]\n",
    "\n",
    "#Initialize list to store the plots in\n",
    "plots = []\n",
    "\n",
    "#Initiate for loop to go through the graphs: loop through title of graph, the y limits of the y axis, the scalar, and the color of graph\n",
    "for title, var, color in settings:\n",
    "    p = figure(title=title, x_axis_label='Time', y_axis_label='% dev from steady state', height=400, width=600)\n",
    "    p.line(data['time'], data[var], line_width=4, color=color, alpha=0.75)\n",
    "    \n",
    "    # Center title for look factor\n",
    "    p.title.text_font_size = '14pt'  #Make graph title size larger\n",
    "    p.title.align = 'center'  #Title is now centered\n",
    "    plots.append(p)  #Append the plot to the list to graph all together\n",
    "\n",
    "#Make spacing of graphs wider to allow for better visualization\n",
    "grid = gridplot([[plots[0], plots[1]], [plots[2], plots[3]]], sizing_mode='scale_width')\n",
    "\n",
    "#Save the plot as an HTML file\n",
    "output_file(\"bokeh_plot_e_u.html\")  # Save to an HTML file\n",
    "save(grid)  # Save the grid plot\n",
    "\n",
    "#Display the plot in Jupyter notebook using IFrame with adjusted dimensions\n",
    "IFrame(\"bokeh_plot_e_u.html\", width=1100, height=800)\n"
   ]
  },
  {
   "cell_type": "markdown",
   "metadata": {},
   "source": [
    "## Inflation Shock Results & Conclusions\n",
    "\n",
    "What we see is that when a supply side shock occurs, we have a rise in the real interest rate. We then have a drop in the output compared to the steady state, and a rise in inflation. The rise in inflation causes a rise in the real interest rate due to inflation expectations and the central bank trying to fight to bring the inflation down. However, this also will cause a drop in the output as well."
   ]
  },
  {
   "cell_type": "markdown",
   "metadata": {},
   "source": [
    "### Monetary Policy Shock\n",
    "\n",
    "Here will we examine what happens to the impulse responses to inflation and output when we implement a monetary policy shock"
   ]
  },
  {
   "cell_type": "code",
   "execution_count": 115,
   "metadata": {},
   "outputs": [
    {
     "data": {
      "text/html": [
       "\n",
       "        <iframe\n",
       "            width=\"1100\"\n",
       "            height=\"800\"\n",
       "            src=\"bokeh_plot_e_v.html\"\n",
       "            frameborder=\"0\"\n",
       "            allowfullscreen\n",
       "            \n",
       "        ></iframe>\n",
       "        "
      ],
      "text/plain": [
       "<IPython.lib.display.IFrame at 0x155cf2330>"
      ]
     },
     "execution_count": 115,
     "metadata": {},
     "output_type": "execute_result"
    }
   ],
   "source": [
    "from bokeh.plotting import figure, output_file, save\n",
    "from bokeh.layouts import gridplot\n",
    "from IPython.display import IFrame\n",
    "\n",
    "#Create our data for the graphs: variables and scale\n",
    "data = {\n",
    "    'time': nk_model.irs['e_v']['i'].index,  # assuming time is the index of the data\n",
    "    'nominal_interest': nk_model.irs['e_v']['i'] * 400,\n",
    "    'real_interest': nk_model.irs['e_v']['r'] * 400,\n",
    "    'output': nk_model.irs['e_v']['y'] * 100,\n",
    "    'inflation': nk_model.irs['e_v']['pi'] * 400\n",
    "}\n",
    "\n",
    "#Create our axes settings: Graph title, variable name, y axis limits, scalar, and color of graph\n",
    "settings = [\n",
    "    ('Nominal Interest (annualized)', 'nominal_interest', 'red'),\n",
    "    ('Real Interest (annualized)', 'real_interest', 'blue'),\n",
    "    ('Output', 'output', 'green'),\n",
    "    ('Inflation (annualized)', 'inflation', 'orange')\n",
    "]\n",
    "\n",
    "#Initialize list to store the plots in\n",
    "plots = []\n",
    "\n",
    "#Initiate for loop to go through the graphs: loop through title of graph, the y limits of the y axis, the scalar, and the color of graph\n",
    "for title, var, color in settings:\n",
    "    p = figure(title=title, x_axis_label='Time', y_axis_label='% dev from steady state', height=400, width=600)\n",
    "    p.line(data['time'], data[var], line_width=4, color=color, alpha=0.75)\n",
    "    \n",
    "    #Increase the title size\n",
    "    p.title.text_font_size = '14pt'  #Set title font size\n",
    "    p.title.align = 'center'  #Title is now centered\n",
    "    \n",
    "    plots.append(p)  #Append the plot to the list to graph all together\n",
    "\n",
    "#Make spacing of graphs wider to allow for better visualization\n",
    "grid = gridplot([[plots[0], plots[1]], [plots[2], plots[3]]], sizing_mode='scale_width')\n",
    "\n",
    "#Save the plot as an HTML file\n",
    "output_file(\"bokeh_plot_e_v.html\")  # Save to an HTML file\n",
    "save(grid)  # Save the grid plot\n",
    "\n",
    "#Display the plot in Jupyter notebook using IFrame with adjusted dimensions\n",
    "IFrame(\"bokeh_plot_e_v.html\", width=1100, height=800)\n"
   ]
  },
  {
   "cell_type": "markdown",
   "metadata": {},
   "source": [
    "## Monetary Policy Shock Results & Conclusions:\n",
    "\n",
    "We see that when there is a monetary policy shock, we have both the difference between output potential and output going further negative, but inflation also going down. Thus, there's a trade-off here in that when the central bank implements a monetary policy shock, we can expect there to be a drop off in inflation which may be good depending on circumstances, but also that there's a drop in output. "
   ]
  },
  {
   "cell_type": "code",
   "execution_count": null,
   "metadata": {},
   "outputs": [],
   "source": []
  }
 ],
 "metadata": {
  "anaconda-cloud": {},
  "kernelspec": {
   "display_name": "Python [conda env:base] *",
   "language": "python",
   "name": "conda-base-py"
  },
  "language_info": {
   "codemirror_mode": {
    "name": "ipython",
    "version": 3
   },
   "file_extension": ".py",
   "mimetype": "text/x-python",
   "name": "python",
   "nbconvert_exporter": "python",
   "pygments_lexer": "ipython3",
   "version": "3.12.7"
  }
 },
 "nbformat": 4,
 "nbformat_minor": 4
}
